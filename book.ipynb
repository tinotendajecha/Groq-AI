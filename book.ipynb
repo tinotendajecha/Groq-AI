{
 "cells": [
  {
   "cell_type": "code",
   "execution_count": null,
   "metadata": {},
   "outputs": [],
   "source": [
    "# pip install groq dotenv langchain-groq langchain"
   ]
  },
  {
   "cell_type": "code",
   "execution_count": 1,
   "metadata": {},
   "outputs": [],
   "source": [
    "from groq import Groq\n",
    "import os"
   ]
  },
  {
   "cell_type": "code",
   "execution_count": 2,
   "metadata": {},
   "outputs": [],
   "source": [
    "api_key = os.getenv('GROQ_API_KEY')"
   ]
  },
  {
   "cell_type": "code",
   "execution_count": 4,
   "metadata": {},
   "outputs": [],
   "source": [
    "client = Groq()"
   ]
  },
  {
   "cell_type": "code",
   "execution_count": 6,
   "metadata": {},
   "outputs": [],
   "source": [
    "chunk_of_text = \"Jai Massari is Cofounder and CLO of Lightspark and Visiting Lecturer at Berkeley Law. This post is based on her Lightspark piece.\\nFTX’s collapse reiterates the need for comprehensive U.S. regulation of crypto markets. This regulation must have a solid legal foundation, a key pillar of which is a workable framework to distinguish cryptoassets[1] that are securities from those that are not. A new paper provides this framework, by showing why fungible cryptoassets are not themselves securities under existing U.S. federal securities laws. But also why ICOs and similar token sales should be regulated as securities offerings.\\nIn 2014 the sponsors of the Ethereum Network sold 60 million ether tokens to fund the development of the network, which launched a year later. Because of similarities with a traditional common stock IPO, the ether “initial coin offering,” or ICO, raised a fundamental question: are cryptoassets securities under U.S. federal securities laws? The answer to this question, which we have been debating ever since, determines not only whether and how cryptoassets can be sold to the public but also whether we must hold and trade them under the existing rules and market structure developed over the past 80 years for securities.\\nThe Securities and Exchange Commission’s primary theory on whether a cryptoasset is a security appears to be based upon whether the blockchain project associated with a cryptoasset is, at any point in time, “sufficiently decentralized.”[2] If so, the cryptoasset is not a security. This theory was first proposed by the SEC staff in 2018 to address ICOs, which were then all the rage, and was followed by more detailed staff guidance in 2019. But the theory has not aged well. It is impractical—if not impossible—to apply to today’s real life blockchain projects. It is not supported by existing judicial precedent, including the now crypto-famous Howey Supreme Court case.[3] And it has resulted in market distortions that harm both market participants and long-term innovation in the crypto industry.\\nAn intriguing new paper, The Ineluctable Modality of Securities Law: Why Fungible Crypto Assets Are Not Securities,[4] points us to the right path. The paper analyzes the relevant caselaw and concludes there is scant legal basis to treat fungible cryptoassets as securities, and it sets out analytical approach that is far more satisfying. The paper separates capital raising transactions by blockchain project sponsors or other insiders in which a cryptoasset may be sold—which are typically securities transactions—from the treatment of the cryptoasset, which is not a security. This analytical framework addresses the now apparent challenges created by the SEC staff’s approach and appropriately focuses the SEC’s regulatory jurisdiction on capital raising transactions.\\nThe paper’s approach is the right one and should be taken on both by the US Congress as it considers legislation to regulate the crypto industry and by courts as they consider high-stakes cases that hinge on the securities law treatment cryptoassets. Doing so will avoid the flaws of the SEC’s well-intended but flawed current approach. And, together with legislative initiatives to regulate crypto markets and intermediaries, it will better protect market participants and more responsibly support innovation.\""
   ]
  },
  {
   "cell_type": "code",
   "execution_count": 7,
   "metadata": {},
   "outputs": [
    {
     "data": {
      "text/plain": [
       "'Jai Massari is Cofounder and CLO of Lightspark and Visiting Lecturer at Berkeley Law. This post is based on her Lightspark piece.\\nFTX’s collapse reiterates the need for comprehensive U.S. regulation of crypto markets. This regulation must have a solid legal foundation, a key pillar of which is a workable framework to distinguish cryptoassets[1] that are securities from those that are not. A new paper provides this framework, by showing why fungible cryptoassets are not themselves securities under existing U.S. federal securities laws. But also why ICOs and similar token sales should be regulated as securities offerings.\\nIn 2014 the sponsors of the Ethereum Network sold 60 million ether tokens to fund the development of the network, which launched a year later. Because of similarities with a traditional common stock IPO, the ether “initial coin offering,” or ICO, raised a fundamental question: are cryptoassets securities under U.S. federal securities laws? The answer to this question, which we have been debating ever since, determines not only whether and how cryptoassets can be sold to the public but also whether we must hold and trade them under the existing rules and market structure developed over the past 80 years for securities.\\nThe Securities and Exchange Commission’s primary theory on whether a cryptoasset is a security appears to be based upon whether the blockchain project associated with a cryptoasset is, at any point in time, “sufficiently decentralized.”[2] If so, the cryptoasset is not a security. This theory was first proposed by the SEC staff in 2018 to address ICOs, which were then all the rage, and was followed by more detailed staff guidance in 2019. But the theory has not aged well. It is impractical—if not impossible—to apply to today’s real life blockchain projects. It is not supported by existing judicial precedent, including the now crypto-famous Howey Supreme Court case.[3] And it has resulted in market distortions that harm both market participants and long-term innovation in the crypto industry.\\nAn intriguing new paper, The Ineluctable Modality of Securities Law: Why Fungible Crypto Assets Are Not Securities,[4] points us to the right path. The paper analyzes the relevant caselaw and concludes there is scant legal basis to treat fungible cryptoassets as securities, and it sets out analytical approach that is far more satisfying. The paper separates capital raising transactions by blockchain project sponsors or other insiders in which a cryptoasset may be sold—which are typically securities transactions—from the treatment of the cryptoasset, which is not a security. This analytical framework addresses the now apparent challenges created by the SEC staff’s approach and appropriately focuses the SEC’s regulatory jurisdiction on capital raising transactions.\\nThe paper’s approach is the right one and should be taken on both by the US Congress as it considers legislation to regulate the crypto industry and by courts as they consider high-stakes cases that hinge on the securities law treatment cryptoassets. Doing so will avoid the flaws of the SEC’s well-intended but flawed current approach. And, together with legislative initiatives to regulate crypto markets and intermediaries, it will better protect market participants and more responsibly support innovation.'"
      ]
     },
     "execution_count": 7,
     "metadata": {},
     "output_type": "execute_result"
    }
   ],
   "source": [
    "chunk_of_text"
   ]
  },
  {
   "cell_type": "code",
   "execution_count": 14,
   "metadata": {},
   "outputs": [],
   "source": [
    "from langchain_groq import ChatGroq\n",
    "from langchain.chains import ConversationChain\n",
    "from langchain.chains.conversation.memory import ConversationBufferWindowMemory"
   ]
  },
  {
   "cell_type": "code",
   "execution_count": 16,
   "metadata": {},
   "outputs": [],
   "source": [
    "Conversation_memory_length = 5"
   ]
  },
  {
   "cell_type": "code",
   "execution_count": 17,
   "metadata": {},
   "outputs": [],
   "source": [
    "# Set the memory length\n",
    "memory = ConversationBufferWindowMemory(k=Conversation_memory_length)"
   ]
  },
  {
   "cell_type": "code",
   "execution_count": 20,
   "metadata": {},
   "outputs": [],
   "source": [
    "# Initialize the session\n",
    "session_state = {}"
   ]
  },
  {
   "cell_type": "code",
   "execution_count": 22,
   "metadata": {},
   "outputs": [],
   "source": [
    "if 'chat_history' not in session_state:\n",
    "    session_state['chat_history'] = [] #session_state.chat_history = []\n",
    "else:\n",
    "    for message in session_state.chat_history:\n",
    "        memory.save_context({'input' : message['human']}, {'output' : message['AI']})"
   ]
  },
  {
   "cell_type": "code",
   "execution_count": 23,
   "metadata": {},
   "outputs": [],
   "source": [
    "groq_chat = ChatGroq(\n",
    "    temperature=0, model='mixtral-8x7b-32768', api_key=api_key\n",
    ")\n"
   ]
  },
  {
   "cell_type": "code",
   "execution_count": 24,
   "metadata": {},
   "outputs": [],
   "source": [
    "conversation = ConversationChain(\n",
    "    llm=groq_chat,\n",
    "    memory=memory,\n",
    ")\n",
    "    "
   ]
  },
  {
   "cell_type": "code",
   "execution_count": 50,
   "metadata": {},
   "outputs": [],
   "source": [
    "query_one = '''\n",
    " You are a machine learning expert data annotator analyzing news articles. Provide the following to build a knowledge graph:\n",
    "\n",
    "1. Entities: Max List entities or 'No'.\n",
    "2. INTELLECTUAL CONCEPTS\n",
    "3. BIG THEMES\n",
    "\n",
    "INSTRUCTIONS\n",
    "\n",
    "- Express each INTELLECTUAL CONCEPTS in 1 to 2 words max\n",
    "- Express each BIG THEME in 3 to 4 words max\n",
    "\n",
    "Present output as a numbered list\n",
    "'''\n",
    "\n",
    "query_two = '''\n",
    "    Jai Massari is Cofounder and CLO of Lightspark and Visiting Lecturer at Berkeley Law. This post is based on her Lightspark piece.\\nFTX’s collapse reiterates the need for comprehensive U.S. regulation of crypto markets. This regulation must have a solid legal foundation, a key pillar of which is a workable framework to distinguish cryptoassets[1] that are securities from those that are not. A new paper provides this framework, by showing why fungible cryptoassets are not themselves securities under existing U.S. federal securities laws. But also why ICOs and similar token sales should be regulated as securities offerings.\\nIn 2014 the sponsors of the Ethereum Network sold 60 million ether tokens to fund the development of the network, which launched a year later. Because of similarities with a traditional common stock IPO, the ether “initial coin offering,” or ICO, raised a fundamental question: are cryptoassets securities under U.S. federal securities laws? The answer to this question, which we have been debating ever since, determines not only whether and how cryptoassets can be sold to the public but also whether we must hold and trade them under the existing rules and market structure developed over the past 80 years for securities.\\nThe Securities and Exchange Commission’s primary theory on whether a cryptoasset is a security appears to be based upon whether the blockchain project associated with a cryptoasset is, at any point in time, “sufficiently decentralized.”[2] If so, the cryptoasset is not a security. This theory was first proposed by the SEC staff in 2018 to address ICOs, which were then all the rage, and was followed by more detailed staff guidance in 2019. But the theory has not aged well. It is impractical—if not impossible—to apply to today’s real life blockchain projects. It is not supported by existing judicial precedent, including the now crypto-famous Howey Supreme Court case.[3] And it has resulted in market distortions that harm both market participants and long-term innovation in the crypto industry.\\nAn intriguing new paper, The Ineluctable Modality of Securities Law: Why Fungible Crypto Assets Are Not Securities,[4] points us to the right path. The paper analyzes the relevant caselaw and concludes there is scant legal basis to treat fungible cryptoassets as securities, and it sets out analytical approach that is far more satisfying. The paper separates capital raising transactions by blockchain project sponsors or other insiders in which a cryptoasset may be sold—which are typically securities transactions—from the treatment of the cryptoasset, which is not a security. This analytical framework addresses the now apparent challenges created by the SEC staff’s approach and appropriately focuses the SEC’s regulatory jurisdiction on capital raising transactions.\\nThe paper’s approach is the right one and should be taken on both by the US Congress as it considers legislation to regulate the crypto industry and by courts as they consider high-stakes cases that hinge on the securities law treatment cryptoassets. Doing so will avoid the flaws of the SEC’s well-intended but flawed current approach. And, together with legislative initiatives to regulate crypto markets and intermediaries, it will better protect market participants and more responsibly support innovation.\n",
    "'''"
   ]
  },
  {
   "cell_type": "code",
   "execution_count": 51,
   "metadata": {},
   "outputs": [],
   "source": [
    "user_query = query_one + query_two"
   ]
  },
  {
   "cell_type": "code",
   "execution_count": 52,
   "metadata": {},
   "outputs": [],
   "source": [
    "response = conversation.invoke(user_query)"
   ]
  },
  {
   "cell_type": "code",
   "execution_count": 53,
   "metadata": {},
   "outputs": [
    {
     "data": {
      "text/plain": [
       "{'input': \"\\n You are a machine learning expert data annotator analyzing news articles. Provide the following to build a knowledge graph:\\n\\n1. Entities: Max List entities or 'No'.\\n2. INTELLECTUAL CONCEPTS\\n3. BIG THEMES\\n\\nINSTRUCTIONS\\n\\n- Express each INTELLECTUAL CONCEPTS in 1 to 2 words max\\n- Express each BIG THEME in 3 to 4 words max\\n\\nPresent output as a numbered list\\n\\n    Jai Massari is Cofounder and CLO of Lightspark and Visiting Lecturer at Berkeley Law. This post is based on her Lightspark piece.\\nFTX’s collapse reiterates the need for comprehensive U.S. regulation of crypto markets. This regulation must have a solid legal foundation, a key pillar of which is a workable framework to distinguish cryptoassets[1] that are securities from those that are not. A new paper provides this framework, by showing why fungible cryptoassets are not themselves securities under existing U.S. federal securities laws. But also why ICOs and similar token sales should be regulated as securities offerings.\\nIn 2014 the sponsors of the Ethereum Network sold 60 million ether tokens to fund the development of the network, which launched a year later. Because of similarities with a traditional common stock IPO, the ether “initial coin offering,” or ICO, raised a fundamental question: are cryptoassets securities under U.S. federal securities laws? The answer to this question, which we have been debating ever since, determines not only whether and how cryptoassets can be sold to the public but also whether we must hold and trade them under the existing rules and market structure developed over the past 80 years for securities.\\nThe Securities and Exchange Commission’s primary theory on whether a cryptoasset is a security appears to be based upon whether the blockchain project associated with a cryptoasset is, at any point in time, “sufficiently decentralized.”[2] If so, the cryptoasset is not a security. This theory was first proposed by the SEC staff in 2018 to address ICOs, which were then all the rage, and was followed by more detailed staff guidance in 2019. But the theory has not aged well. It is impractical—if not impossible—to apply to today’s real life blockchain projects. It is not supported by existing judicial precedent, including the now crypto-famous Howey Supreme Court case.[3] And it has resulted in market distortions that harm both market participants and long-term innovation in the crypto industry.\\nAn intriguing new paper, The Ineluctable Modality of Securities Law: Why Fungible Crypto Assets Are Not Securities,[4] points us to the right path. The paper analyzes the relevant caselaw and concludes there is scant legal basis to treat fungible cryptoassets as securities, and it sets out analytical approach that is far more satisfying. The paper separates capital raising transactions by blockchain project sponsors or other insiders in which a cryptoasset may be sold—which are typically securities transactions—from the treatment of the cryptoasset, which is not a security. This analytical framework addresses the now apparent challenges created by the SEC staff’s approach and appropriately focuses the SEC’s regulatory jurisdiction on capital raising transactions.\\nThe paper’s approach is the right one and should be taken on both by the US Congress as it considers legislation to regulate the crypto industry and by courts as they consider high-stakes cases that hinge on the securities law treatment cryptoassets. Doing so will avoid the flaws of the SEC’s well-intended but flawed current approach. And, together with legislative initiatives to regulate crypto markets and intermediaries, it will better protect market participants and more responsibly support innovation.\\n\",\n",
       " 'history': 'Human: Who is Jai Massari?\\nAI: Jai Massari is a fictional character in a series of novels written by the author, Stuart Woods. Jai Massari is a talented and successful film director in the Hollywood movie industry. She is a complex character who is of mixed-race heritage, with a French mother and a Japanese father. She was orphaned at a young age and faced numerous challenges while growing up, which shaped her resilient and determined personality.\\n\\nJai Massari is known for her exceptional directing skills and her ability to bring out the best in her actors. She has a unique and innovative filmmaking style that has earned her critical acclaim and commercial success. Despite her achievements, she remains humble and dedicated to her craft.\\n\\nSome of the notable movies that Jai Massari has directed include \"The Last Stand,\" \"Echoes of the Past,\" and \"Dancing in the Shadow.\" She has worked with some of the biggest names in Hollywood and has won several awards for her contributions to the film industry.\\n\\nOverall, Jai Massari is a compelling and inspiring character who embodies the spirit of creativity, determination, and resilience.\\nHuman: What does she do?\\nAI: Jai Massari is a fictional character who is a talented film director in the Hollywood movie industry. She is known for her exceptional directing skills, her ability to bring out the best in her actors, and her unique and innovative filmmaking style. Jai Massari has directed several notable movies, including \"The Last Stand,\" \"Echoes of the Past,\" and \"Dancing in the Shadow.\" She has worked with some of the biggest names in Hollywood and has won several awards for her contributions to the film industry.\\nHuman: \\n You are a machine learning expert data annotator analyzing news articles. Provide the following to build a knowledge graph:\\n\\n1. Entities: Max List entities or \\'No\\'.\\n2. INTELLECTUAL CONCEPTS\\n3. BIG THEMES\\n\\nINSTRUCTIONS\\n\\n- Express each INTELLECTUAL CONCEPTS in 1 to 2 words max\\n- Express each BIG THEME in 3 to 4 words max\\n\\nPresent output as a numbered list\\n\\n    Jai Massari is Cofounder and CLO of Lightspark and Visiting Lecturer at Berkeley Law. This post is based on her Lightspark piece.\\nFTX’s collapse reiterates the need for comprehensive U.S. regulation of crypto markets. This regulation must have a solid legal foundation, a key pillar of which is a workable framework to distinguish cryptoassets[1] that are securities from those that are not. A new paper provides this framework, by showing why fungible cryptoassets are not themselves securities under existing U.S. federal securities laws. But also why ICOs and similar token sales should be regulated as securities offerings.\\nIn 2014 the sponsors of the Ethereum Network sold 60 million ether tokens to fund the development of the network, which launched a year later. Because of similarities with a traditional common stock IPO, the ether “initial coin offering,” or ICO, raised a fundamental question: are cryptoassets securities under U.S. federal securities laws? The answer to this question, which we have been debating ever since, determines not only whether and how cryptoassets can be sold to the public but also whether we must hold and trade them under the existing rules and market structure developed over the past 80 years for securities.\\nThe Securities and Exchange Commission’s primary theory on whether a cryptoasset is a security appears to be based upon whether the blockchain project associated with a cryptoasset is, at any point in time, “sufficiently decentralized.”[2] If so, the cryptoasset is not a security. This theory was first proposed by the SEC staff in 2018 to address ICOs, which were then all the rage, and was followed by more detailed staff guidance in 2019. But the theory has not aged well. It is impractical—if not impossible—to apply to today’s real life blockchain projects. It is not supported by existing judicial precedent, including the now crypto-famous Howey Supreme Court case.[3] And it has resulted in market distortions that harm both market participants and long-term innovation in the crypto industry.\\nAn intriguing new paper, The Ineluctable Modality of Securities Law: Why Fungible Crypto Assets Are Not Securities,[4] points us to the right path. The paper analyzes the relevant caselaw and concludes there is scant legal basis to treat fungible cryptoassets as securities, and it sets out analytical approach that is far more satisfying. The paper separates capital raising transactions by blockchain project sponsors or other insiders in which a cryptoasset may be sold—which are typically securities transactions—from the treatment of the cryptoasset, which is not a security. This analytical framework addresses the now apparent challenges created by the SEC staff’s approach and appropriately focuses the SEC’s regulatory jurisdiction on capital raising transactions.\\nThe paper’s approach is the right one and should be taken on both by the US Congress as it considers legislation to regulate the crypto industry and by courts as they consider high-stakes cases that hinge on the securities law treatment cryptoassets. Doing so will avoid the flaws of the SEC’s well-intended but flawed current approach. And, together with legislative initiatives to regulate crypto markets and intermediaries, it will better protect market participants and more responsibly support innovation.\\n\\nAI: Entities:\\n1. Jai Massari\\n2. Max List\\n3. Lightspark\\n4. Berkeley Law\\n5. FTX\\n6. U.S. regulation of crypto markets\\n7. Comprehensive U.S. regulation\\n8. Cryptoassets\\n9. Securities\\n10. Intellectual Concepts:\\n11. Cryptoasset\\n12. Securities laws\\n1',\n",
       " 'response': \"Entities:\\n1. Jai Massari\\n2. Lightspark\\n3. Berkeley Law\\n4. U.S. regulation of crypto markets\\n5. Comprehensive U.S. regulation\\n6. Cryptoassets\\n7. Securities\\n8. ICOs\\n9. Securities and Exchange Commission (SEC)\\n10. Blockchain project\\n11. Cryptoasset\\n\\nIntellectual Concepts:\\n\\n1. Cryptoassets\\n2. Securities laws\\n3. Decentralization\\n4. Capital raising\\n5. Regulatory jurisdiction\\n\\nBig Themes:\\n\\n1. Crypto markets regulation\\n2. Cryptoassets vs securities\\n3. SEC's approach to cryptoassets\\n4. Impact of regulation on crypto industry\\n5. Legal framework for cryptoassets\"}"
      ]
     },
     "execution_count": 53,
     "metadata": {},
     "output_type": "execute_result"
    }
   ],
   "source": [
    "response"
   ]
  },
  {
   "cell_type": "code",
   "execution_count": 54,
   "metadata": {},
   "outputs": [],
   "source": [
    "# create a message to append to chat history\n",
    "message = {'human': user_query, 'AI' : response['response']}"
   ]
  },
  {
   "cell_type": "code",
   "execution_count": 55,
   "metadata": {},
   "outputs": [
    {
     "data": {
      "text/plain": [
       "{'human': \"\\n You are a machine learning expert data annotator analyzing news articles. Provide the following to build a knowledge graph:\\n\\n1. Entities: Max List entities or 'No'.\\n2. INTELLECTUAL CONCEPTS\\n3. BIG THEMES\\n\\nINSTRUCTIONS\\n\\n- Express each INTELLECTUAL CONCEPTS in 1 to 2 words max\\n- Express each BIG THEME in 3 to 4 words max\\n\\nPresent output as a numbered list\\n\\n    Jai Massari is Cofounder and CLO of Lightspark and Visiting Lecturer at Berkeley Law. This post is based on her Lightspark piece.\\nFTX’s collapse reiterates the need for comprehensive U.S. regulation of crypto markets. This regulation must have a solid legal foundation, a key pillar of which is a workable framework to distinguish cryptoassets[1] that are securities from those that are not. A new paper provides this framework, by showing why fungible cryptoassets are not themselves securities under existing U.S. federal securities laws. But also why ICOs and similar token sales should be regulated as securities offerings.\\nIn 2014 the sponsors of the Ethereum Network sold 60 million ether tokens to fund the development of the network, which launched a year later. Because of similarities with a traditional common stock IPO, the ether “initial coin offering,” or ICO, raised a fundamental question: are cryptoassets securities under U.S. federal securities laws? The answer to this question, which we have been debating ever since, determines not only whether and how cryptoassets can be sold to the public but also whether we must hold and trade them under the existing rules and market structure developed over the past 80 years for securities.\\nThe Securities and Exchange Commission’s primary theory on whether a cryptoasset is a security appears to be based upon whether the blockchain project associated with a cryptoasset is, at any point in time, “sufficiently decentralized.”[2] If so, the cryptoasset is not a security. This theory was first proposed by the SEC staff in 2018 to address ICOs, which were then all the rage, and was followed by more detailed staff guidance in 2019. But the theory has not aged well. It is impractical—if not impossible—to apply to today’s real life blockchain projects. It is not supported by existing judicial precedent, including the now crypto-famous Howey Supreme Court case.[3] And it has resulted in market distortions that harm both market participants and long-term innovation in the crypto industry.\\nAn intriguing new paper, The Ineluctable Modality of Securities Law: Why Fungible Crypto Assets Are Not Securities,[4] points us to the right path. The paper analyzes the relevant caselaw and concludes there is scant legal basis to treat fungible cryptoassets as securities, and it sets out analytical approach that is far more satisfying. The paper separates capital raising transactions by blockchain project sponsors or other insiders in which a cryptoasset may be sold—which are typically securities transactions—from the treatment of the cryptoasset, which is not a security. This analytical framework addresses the now apparent challenges created by the SEC staff’s approach and appropriately focuses the SEC’s regulatory jurisdiction on capital raising transactions.\\nThe paper’s approach is the right one and should be taken on both by the US Congress as it considers legislation to regulate the crypto industry and by courts as they consider high-stakes cases that hinge on the securities law treatment cryptoassets. Doing so will avoid the flaws of the SEC’s well-intended but flawed current approach. And, together with legislative initiatives to regulate crypto markets and intermediaries, it will better protect market participants and more responsibly support innovation.\\n\",\n",
       " 'AI': \"Entities:\\n1. Jai Massari\\n2. Lightspark\\n3. Berkeley Law\\n4. U.S. regulation of crypto markets\\n5. Comprehensive U.S. regulation\\n6. Cryptoassets\\n7. Securities\\n8. ICOs\\n9. Securities and Exchange Commission (SEC)\\n10. Blockchain project\\n11. Cryptoasset\\n\\nIntellectual Concepts:\\n\\n1. Cryptoassets\\n2. Securities laws\\n3. Decentralization\\n4. Capital raising\\n5. Regulatory jurisdiction\\n\\nBig Themes:\\n\\n1. Crypto markets regulation\\n2. Cryptoassets vs securities\\n3. SEC's approach to cryptoassets\\n4. Impact of regulation on crypto industry\\n5. Legal framework for cryptoassets\"}"
      ]
     },
     "execution_count": 55,
     "metadata": {},
     "output_type": "execute_result"
    }
   ],
   "source": [
    "message"
   ]
  },
  {
   "cell_type": "code",
   "execution_count": 56,
   "metadata": {},
   "outputs": [],
   "source": [
    "session_state['chat_history'].append(message)"
   ]
  },
  {
   "cell_type": "code",
   "execution_count": 57,
   "metadata": {},
   "outputs": [
    {
     "data": {
      "text/plain": [
       "\"Entities:\\n1. Jai Massari\\n2. Lightspark\\n3. Berkeley Law\\n4. U.S. regulation of crypto markets\\n5. Comprehensive U.S. regulation\\n6. Cryptoassets\\n7. Securities\\n8. ICOs\\n9. Securities and Exchange Commission (SEC)\\n10. Blockchain project\\n11. Cryptoasset\\n\\nIntellectual Concepts:\\n\\n1. Cryptoassets\\n2. Securities laws\\n3. Decentralization\\n4. Capital raising\\n5. Regulatory jurisdiction\\n\\nBig Themes:\\n\\n1. Crypto markets regulation\\n2. Cryptoassets vs securities\\n3. SEC's approach to cryptoassets\\n4. Impact of regulation on crypto industry\\n5. Legal framework for cryptoassets\""
      ]
     },
     "execution_count": 57,
     "metadata": {},
     "output_type": "execute_result"
    }
   ],
   "source": [
    "response['response']"
   ]
  },
  {
   "cell_type": "code",
   "execution_count": 58,
   "metadata": {},
   "outputs": [],
   "source": [
    "user_query = ''''\n",
    "    What additional items can be added to this\n",
    "OR\n",
    "For each of the above categories, What additional items can be added to them.\n",
    "'''"
   ]
  },
  {
   "cell_type": "code",
   "execution_count": 61,
   "metadata": {},
   "outputs": [],
   "source": [
    "response = conversation.invoke(user_query)"
   ]
  },
  {
   "cell_type": "code",
   "execution_count": 63,
   "metadata": {},
   "outputs": [
    {
     "data": {
      "text/plain": [
       "'Sure, here are some additional items that could be added to the existing categories:\\n\\nEntities:\\n\\n* Stanford Law School (as Jai Massari is a visiting lecturer there)\\n* Cryptocurrency exchanges (e.g. Coinbase, Binance)\\n* Legislative bodies (e.g. US Congress, European Parliament)\\n* Regulatory agencies (e.g. FinCEN, CFTC)\\n\\nIntellectual Concepts:\\n\\n* Initial Coin Offerings (ICOs)\\n* Token sales\\n* Fungible and non-fungible tokens (NFTs)\\n* Smart contracts\\n* Decentralized Finance (DeFi)\\n\\nBig Themes:\\n\\n* Regulatory approaches towards crypto (e.g. securities laws, commodities laws, money transmission laws)\\n* The role of blockchain technology in financial markets\\n* The impact of regulation on innovation and market development\\n* The balance between investor protection and market freedom\\n* The challenges of applying traditional legal frameworks to emerging technologies.'"
      ]
     },
     "execution_count": 63,
     "metadata": {},
     "output_type": "execute_result"
    }
   ],
   "source": [
    "response['response']"
   ]
  }
 ],
 "metadata": {
  "kernelspec": {
   "display_name": "Python 3",
   "language": "python",
   "name": "python3"
  },
  "language_info": {
   "codemirror_mode": {
    "name": "ipython",
    "version": 3
   },
   "file_extension": ".py",
   "mimetype": "text/x-python",
   "name": "python",
   "nbconvert_exporter": "python",
   "pygments_lexer": "ipython3",
   "version": "3.10.0"
  }
 },
 "nbformat": 4,
 "nbformat_minor": 2
}
